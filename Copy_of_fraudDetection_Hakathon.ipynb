{
  "nbformat": 4,
  "nbformat_minor": 0,
  "metadata": {
    "colab": {
      "name": "Copy of fraudDetection_Hakathon",
      "version": "0.3.2",
      "provenance": [],
      "collapsed_sections": [],
      "include_colab_link": true
    },
    "kernelspec": {
      "name": "python3",
      "display_name": "Python 3"
    },
    "accelerator": "GPU"
  },
  "cells": [
    {
      "cell_type": "markdown",
      "metadata": {
        "id": "view-in-github",
        "colab_type": "text"
      },
      "source": [
        "<a href=\"https://colab.research.google.com/github/zingisamatwana/Fraud-Detection-Challenge/blob/master/Copy_of_fraudDetection_Hakathon.ipynb\" target=\"_parent\"><img src=\"https://colab.research.google.com/assets/colab-badge.svg\" alt=\"Open In Colab\"/></a>"
      ]
    },
    {
      "cell_type": "code",
      "metadata": {
        "id": "GYzxlN6ehrQE",
        "colab_type": "code",
        "colab": {}
      },
      "source": [
        "import pandas as pd\n",
        "import numpy as np\n",
        "import matplotlib.pyplot as plt\n",
        "import seaborn as sns\n",
        "%matplotlib inline"
      ],
      "execution_count": 0,
      "outputs": []
    },
    {
      "cell_type": "code",
      "metadata": {
        "id": "c-mD1muDwELM",
        "colab_type": "code",
        "colab": {}
      },
      "source": [
        "# UPLOADING DATA\n",
        "# ----------------------------------\n",
        "# from google.colab import files\n",
        "# files.upload()\n",
        "# files.upload()\n",
        "# ---------------------------------"
      ],
      "execution_count": 0,
      "outputs": []
    },
    {
      "cell_type": "code",
      "metadata": {
        "id": "M0SSkm0YTHWS",
        "colab_type": "code",
        "outputId": "77e0fe79-ef83-471e-915c-820f8362ca14",
        "colab": {
          "base_uri": "https://localhost:8080/",
          "height": 255
        }
      },
      "source": [
        "! pip install -U imbalanced-learn"
      ],
      "execution_count": 0,
      "outputs": [
        {
          "output_type": "stream",
          "text": [
            "Collecting imbalanced-learn\n",
            "\u001b[?25l  Downloading https://files.pythonhosted.org/packages/e6/62/08c14224a7e242df2cef7b312d2ef821c3931ec9b015ff93bb52ec8a10a3/imbalanced_learn-0.5.0-py3-none-any.whl (173kB)\n",
            "\u001b[K     |████████████████████████████████| 174kB 2.8MB/s \n",
            "\u001b[?25hRequirement already satisfied, skipping upgrade: scikit-learn>=0.21 in /usr/local/lib/python3.6/dist-packages (from imbalanced-learn) (0.21.2)\n",
            "Requirement already satisfied, skipping upgrade: scipy>=0.17 in /usr/local/lib/python3.6/dist-packages (from imbalanced-learn) (1.3.0)\n",
            "Requirement already satisfied, skipping upgrade: numpy>=1.11 in /usr/local/lib/python3.6/dist-packages (from imbalanced-learn) (1.16.4)\n",
            "Requirement already satisfied, skipping upgrade: joblib>=0.11 in /usr/local/lib/python3.6/dist-packages (from imbalanced-learn) (0.13.2)\n",
            "Installing collected packages: imbalanced-learn\n",
            "  Found existing installation: imbalanced-learn 0.4.3\n",
            "    Uninstalling imbalanced-learn-0.4.3:\n",
            "      Successfully uninstalled imbalanced-learn-0.4.3\n",
            "Successfully installed imbalanced-learn-0.5.0\n"
          ],
          "name": "stdout"
        }
      ]
    },
    {
      "cell_type": "code",
      "metadata": {
        "id": "ojz4hyKMyUyL",
        "colab_type": "code",
        "colab": {}
      },
      "source": [
        "train = pd.read_csv('training.csv', parse_dates=['TransactionStartTime'])\n",
        "test = pd.read_csv('test.csv',parse_dates=['TransactionStartTime'])"
      ],
      "execution_count": 0,
      "outputs": []
    },
    {
      "cell_type": "markdown",
      "metadata": {
        "id": "XFKMfZrDyqbE",
        "colab_type": "text"
      },
      "source": [
        ""
      ]
    },
    {
      "cell_type": "code",
      "metadata": {
        "id": "6hdxyucr2Z_n",
        "colab_type": "code",
        "colab": {}
      },
      "source": [
        "removed_cols = ['TransactionId','BatchId','AccountId','SubscriptionId', 'CustomerId','CurrencyCode', 'CountryCode']\n",
        "train_df = train.drop(removed_cols, axis=1)\n",
        "test_df = test.drop(removed_cols, axis=1)"
      ],
      "execution_count": 0,
      "outputs": []
    },
    {
      "cell_type": "code",
      "metadata": {
        "id": "ra0W_1Bg400Z",
        "colab_type": "code",
        "colab": {}
      },
      "source": [
        "\n",
        "def create_date_cols(input_df, date_col):\n",
        "  df = input_df.copy()\n",
        "  df['year'] = df[date_col].dt.year\n",
        "  df['month'] = df[date_col].dt.month\n",
        "  df['day'] = df[date_col].dt.day \n",
        "  df['hour'] = df[date_col].dt.hour\n",
        "  df['minutes'] = df[date_col].dt.minute  \n",
        "  df['seconds'] = df[date_col].dt.second\n",
        "  df['dayofweek'] = df[date_col].dt.dayofweek\n",
        "  return df"
      ],
      "execution_count": 0,
      "outputs": []
    },
    {
      "cell_type": "code",
      "metadata": {
        "id": "qq--85VnwM6o",
        "colab_type": "code",
        "colab": {}
      },
      "source": [
        ""
      ],
      "execution_count": 0,
      "outputs": []
    },
    {
      "cell_type": "code",
      "metadata": {
        "id": "fvFmJ0Uh5Pea",
        "colab_type": "code",
        "colab": {}
      },
      "source": [
        "\n",
        "train_df = create_date_cols(train_df, 'TransactionStartTime')\n",
        "test_df = create_date_cols(test_df, 'TransactionStartTime')\n"
      ],
      "execution_count": 0,
      "outputs": []
    },
    {
      "cell_type": "code",
      "metadata": {
        "id": "VS1HVWyZBGXt",
        "colab_type": "code",
        "colab": {}
      },
      "source": [
        "price_strats_dict = {0:'zero',1:'one',2:'two',4:'four'}\n",
        "train.PricingStrategy=train.PricingStrategy.map(price_strats_dict)\n",
        "test.PricingStrategy=test.PricingStrategy.map(price_strats_dict)"
      ],
      "execution_count": 0,
      "outputs": []
    },
    {
      "cell_type": "code",
      "metadata": {
        "id": "mDv185OA-KJD",
        "colab_type": "code",
        "colab": {}
      },
      "source": [
        "# to dummies\n",
        "to_dummy_cols = ['ProviderId','ProductId','ProductCategory','ChannelId','PricingStrategy']\n",
        "train_dummy_df = pd.get_dummies(train_df,columns=to_dummy_cols, drop_first=True)"
      ],
      "execution_count": 0,
      "outputs": []
    },
    {
      "cell_type": "code",
      "metadata": {
        "id": "fTH06gmD-8Uj",
        "colab_type": "code",
        "colab": {}
      },
      "source": [
        "# to dummies\n",
        "test_dummy_df = pd.get_dummies(test_df,columns=to_dummy_cols, drop_first=True)\n"
      ],
      "execution_count": 0,
      "outputs": []
    },
    {
      "cell_type": "code",
      "metadata": {
        "id": "toi01t0qAuV1",
        "colab_type": "code",
        "colab": {}
      },
      "source": [
        "# create training and test data\n",
        "trainer = train_dummy_df.drop('TransactionStartTime', axis=1)\n",
        "X_test = test_dummy_df.drop('TransactionStartTime', axis=1)"
      ],
      "execution_count": 0,
      "outputs": []
    },
    {
      "cell_type": "code",
      "metadata": {
        "id": "UYlmc4HxB3w2",
        "colab_type": "code",
        "colab": {}
      },
      "source": [
        "# Separate input features and target\n",
        "y_train = trainer.FraudResult\n",
        "X_train = trainer.drop('FraudResult', axis=1)"
      ],
      "execution_count": 0,
      "outputs": []
    },
    {
      "cell_type": "markdown",
      "metadata": {
        "id": "x900QEMct0vV",
        "colab_type": "text"
      },
      "source": [
        "# training the models"
      ]
    },
    {
      "cell_type": "code",
      "metadata": {
        "id": "X5SHTunWDDYG",
        "colab_type": "code",
        "colab": {}
      },
      "source": [
        "# import models\n",
        "from sklearn.linear_model import LogisticRegressionCV\n",
        "from sklearn.ensemble import RandomForestClassifier,GradientBoostingClassifier\n",
        "from sklearn import metrics\n",
        "from sklearn.pipeline import Pipeline\n",
        "from sklearn.model_selection import GridSearchCV"
      ],
      "execution_count": 0,
      "outputs": []
    },
    {
      "cell_type": "code",
      "metadata": {
        "id": "GuuZlON6E89a",
        "colab_type": "code",
        "colab": {}
      },
      "source": [
        "X_test = X_test[[col for col in X_test.columns.values if col in X_train.columns.values]]\n",
        "X_train = X_train[[col for col in X_train.columns.values if col in X_test.columns.values]]\n"
      ],
      "execution_count": 0,
      "outputs": []
    },
    {
      "cell_type": "markdown",
      "metadata": {
        "id": "ZnTU_4WLQSMU",
        "colab_type": "text"
      },
      "source": [
        "## Ensemble Methods Random Forest And Gradient Boosting Algorithms"
      ]
    },
    {
      "cell_type": "code",
      "metadata": {
        "id": "EEhan_e6IoY9",
        "colab_type": "code",
        "colab": {}
      },
      "source": [
        "# enseble algorithms random forest amd gradient boositng \n",
        "rf = RandomForestClassifier(n_estimators=100, n_jobs=-1,class_weight='balanced').fit(X_train,y_train)\n",
        "pred_rf = rf.predict(X_test)\n",
        "submission_binary_rf = pd.DataFrame({'TransactionId':test.TransactionId, 'FraudResult': pred_rf})\n",
        "submission_binary_rf.to_csv('finale_rf2.csv',sep=',', index=False)"
      ],
      "execution_count": 0,
      "outputs": []
    },
    {
      "cell_type": "code",
      "metadata": {
        "id": "7cTgJyUUL5MA",
        "colab_type": "code",
        "outputId": "97c32f80-bd70-44e4-ecb2-9907d341bde0",
        "colab": {
          "base_uri": "https://localhost:8080/",
          "height": 90
        }
      },
      "source": [
        "pred_test_rf = rf.predict(X_train)\n",
        "print('confusion_metrics: \\n',metrics.confusion_matrix(y_train,pred_test_rf))\n",
        "print('f1_score: ', metrics.f1_score(y_train,pred_test_rf))"
      ],
      "execution_count": 0,
      "outputs": [
        {
          "output_type": "stream",
          "text": [
            "confusion_metrics: \n",
            " [[95469     0]\n",
            " [    0   193]]\n",
            "f1_score:  1.0\n"
          ],
          "name": "stdout"
        }
      ]
    },
    {
      "cell_type": "markdown",
      "metadata": {
        "id": "RVS6Bjw0SObx",
        "colab_type": "text"
      },
      "source": [
        "## Data Preprocessing And Feature Engineering "
      ]
    },
    {
      "cell_type": "code",
      "metadata": {
        "id": "eRmmZEMASeZd",
        "colab_type": "code",
        "colab": {}
      },
      "source": [
        "from  imblearn.over_sampling import SMOTE"
      ],
      "execution_count": 0,
      "outputs": []
    },
    {
      "cell_type": "code",
      "metadata": {
        "id": "bsKJgTfITe3o",
        "colab_type": "code",
        "colab": {}
      },
      "source": [
        "smote_algo = SMOTE(random_state=0)"
      ],
      "execution_count": 0,
      "outputs": []
    },
    {
      "cell_type": "code",
      "metadata": {
        "id": "E-TYew1hTrj5",
        "colab_type": "code",
        "colab": {}
      },
      "source": [
        "smote_data_X, smote_data_Y = smote_algo.fit_resample(X_train,y_train)\n",
        "smote_data_X= pd.DataFrame(data=smote_data_X, columns=X_train.columns.values)\n",
        "smote_data_Y= pd.DataFrame(data=smote_data_Y, columns=['FraudResult'])"
      ],
      "execution_count": 0,
      "outputs": []
    },
    {
      "cell_type": "code",
      "metadata": {
        "id": "ER7oVRXeUpXG",
        "colab_type": "code",
        "outputId": "4b0db0ba-e6dd-45f3-e66a-bc7562afd2a4",
        "colab": {
          "base_uri": "https://localhost:8080/",
          "height": 35
        }
      },
      "source": [
        "smote_data_X.shape,X_train.shape,smote_data_Y.shape,y_train.shape\n"
      ],
      "execution_count": 0,
      "outputs": [
        {
          "output_type": "execute_result",
          "data": {
            "text/plain": [
              "((190938, 45), (95662, 45), (190938, 1), (95662,))"
            ]
          },
          "metadata": {
            "tags": []
          },
          "execution_count": 253
        }
      ]
    },
    {
      "cell_type": "code",
      "metadata": {
        "id": "LiXVDu14UrBp",
        "colab_type": "code",
        "colab": {}
      },
      "source": [
        "rf_smote = RandomForestClassifier(n_estimators=3000, n_jobs=-1).fit(smote_data_X, smote_data_Y.values.ravel())"
      ],
      "execution_count": 0,
      "outputs": []
    },
    {
      "cell_type": "code",
      "metadata": {
        "id": "z4g0sMdmXYks",
        "colab_type": "code",
        "outputId": "a3c452c6-675b-4e36-a245-5c048e51d7bf",
        "colab": {
          "base_uri": "https://localhost:8080/",
          "height": 90
        }
      },
      "source": [
        "pred_test_rf_smote = rf_smote.predict(smote_data_X)\n",
        "print('f1_score: ', metrics.f1_score(smote_data_Y,pred_test_rf_smote))\n",
        "print('confusion_metrics: \\n',metrics.confusion_matrix(smote_data_Y,pred_test_rf_smote))\n"
      ],
      "execution_count": 0,
      "outputs": [
        {
          "output_type": "stream",
          "text": [
            "f1_score:  1.0\n",
            "confusion_metrics: \n",
            " [[95469     0]\n",
            " [    0 95469]]\n"
          ],
          "name": "stdout"
        }
      ]
    },
    {
      "cell_type": "code",
      "metadata": {
        "id": "sos15DsPZ5jk",
        "colab_type": "code",
        "colab": {}
      },
      "source": [
        "pred_rf_smote = rf_smote.predict(X_test)\n",
        "submission_binary_rf_smote = pd.DataFrame({'TransactionId':test.TransactionId, 'FraudResult': pred_rf_smote})\n",
        "submission_binary_rf_smote.to_csv('final_rf_smote.csv',sep=',', index=False)\n"
      ],
      "execution_count": 0,
      "outputs": []
    }
  ]
}